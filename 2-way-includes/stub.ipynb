{
 "cells": [
  {
   "cell_type": "code",
   "execution_count": 1,
   "id": "e492b655",
   "metadata": {},
   "outputs": [],
   "source": [
    "import pandas as pd\n",
    "import numpy as np"
   ]
  },
  {
   "cell_type": "code",
   "execution_count": 2,
   "id": "0e0207c0",
   "metadata": {},
   "outputs": [],
   "source": [
    "def get_vector_format(line):\n",
    "    result = line.strip().replace(\"\\\"\", \"\").split(\"->\")\n",
    "    return list(map(lambda item: item.strip(), result)) \n",
    "\n",
    "def generate_unique_node_ids(node_list):\n",
    "    ascii_begin = 65\n",
    "    ascii_end = 91\n",
    "    ascii_limit = ascii_end - ascii_begin\n",
    "    alphabet = np.arange(ascii_begin, ascii_end)\n",
    "    all_node_names = np.array([])\n",
    "    for node in node_list:\n",
    "        all_node_names = np.append(all_node_names, str(node).strip())\n",
    "    unique_names = np.unique(all_node_names)\n",
    "    name_map = {}\n",
    "    counter = 0\n",
    "    cycle = 1\n",
    "    for name in unique_names:\n",
    "        name_map[name] = chr(alphabet[counter]) + str(cycle)\n",
    "        counter += 1\n",
    "        if counter == ascii_limit:\n",
    "            counter = 0\n",
    "            cycle += 1\n",
    "    return name_map"
   ]
  },
  {
   "cell_type": "code",
   "execution_count": 3,
   "id": "55c8798d",
   "metadata": {},
   "outputs": [],
   "source": [
    "result_vector = []\n",
    "dot_file = open(\"subsystem.dot\", \"r\")\n",
    "dot_file_lines = []\n",
    "for line in dot_file:\n",
    "    dot_file_lines.append(line)\n",
    "ds = pd.read_csv('edges_ordered.csv')\n",
    "ordered_file_names = ds['edge'].values #[0:2]\n",
    "name_map = generate_unique_node_ids(ordered_file_names)"
   ]
  },
  {
   "cell_type": "code",
   "execution_count": 4,
   "id": "3c96a3da",
   "metadata": {},
   "outputs": [],
   "source": [
    "ordered_dot = []\n",
    "for file_name in ordered_file_names:\n",
    "    for line in dot_file_lines:\n",
    "        if file_name + \"\\\" ->\" in line:\n",
    "            ordered_dot.append(get_vector_format(line))"
   ]
  },
  {
   "cell_type": "code",
   "execution_count": 5,
   "id": "d4300622",
   "metadata": {},
   "outputs": [],
   "source": [
    "ordered_dot_ids = []\n",
    "for line in ordered_dot:\n",
    "    node = \"\"\n",
    "    include = \"\"\n",
    "    try:\n",
    "        node = name_map[line[0]]\n",
    "        include = name_map[line[1]]\n",
    "    except KeyError:\n",
    "        #print(\"err\")\n",
    "        pass\n",
    "    ordered_dot_ids.append([node, include])"
   ]
  },
  {
   "cell_type": "code",
   "execution_count": 6,
   "id": "983d360d",
   "metadata": {},
   "outputs": [
    {
     "name": "stdout",
     "output_type": "stream",
     "text": [
      "[['SoundSource.cpp', 'ResourceCache.h'], ['SoundSource.cpp', 'DebugNew.h'], ['SoundSource.cpp', 'ReplicationState.h'], ['SoundSource.cpp', 'Audio.h'], ['SoundSource.cpp', 'SoundStream.h'], ['SoundSource.cpp', 'Node.h'], ['SoundSource.cpp', 'Log.h'], ['SoundSource.cpp', 'Sound.h'], ['SoundSource.cpp', 'AudioEvents.h'], ['SoundSource.cpp', 'Precompiled.h'], ['SoundSource.cpp', 'Context.h'], ['SoundSource.cpp', 'SoundSource.h'], ['Audio.cpp', 'Audio.h'], ['Audio.cpp', 'Context.h'], ['Audio.cpp', 'Log.h'], ['Audio.cpp', 'Profiler.h'], ['Audio.cpp', 'SoundListener.h'], ['Audio.cpp', 'Sound.h'], ['Audio.cpp', 'Precompiled.h'], ['Audio.cpp', 'SoundSource3D.h'], ['Audio.cpp', 'CoreEvents.h'], ['Audio.cpp', 'DebugNew.h'], ['Audio.cpp', 'ProcessUtils.h'], ['Sound.cpp', 'Profiler.h'], ['Sound.cpp', 'Log.h'], ['Sound.cpp', 'FileSystem.h'], ['Sound.cpp', 'OggVorbisSoundStream.h'], ['Sound.cpp', 'Context.h'], ['Sound.cpp', 'DebugNew.h'], ['Sound.cpp', 'Sound.h'], ['Sound.cpp', 'Precompiled.h'], ['Sound.cpp', 'ResourceCache.h'], ['Sound.cpp', 'XMLFile.h'], ['Audio.h', 'HashSet.h'], ['Audio.h', 'AudioDefs.h'], ['Audio.h', 'Object.h'], ['Audio.h', 'ArrayPtr.h'], ['Audio.h', 'Mutex.h'], ['SoundSource3D.cpp', 'DebugRenderer.h'], ['SoundSource3D.cpp', 'Context.h'], ['SoundSource3D.cpp', 'Sound.h'], ['SoundSource3D.cpp', 'SoundSource3D.h'], ['SoundSource3D.cpp', 'Node.h'], ['SoundSource3D.cpp', 'Audio.h'], ['SoundSource3D.cpp', 'Precompiled.h'], ['SoundSource3D.cpp', 'SoundListener.h'], ['Sound.h', 'Resource.h'], ['Sound.h', 'ArrayPtr.h'], ['BufferedSoundStream.h', 'ArrayPtr.h'], ['BufferedSoundStream.h', 'SoundStream.h'], ['BufferedSoundStream.h', 'Mutex.h'], ['BufferedSoundStream.h', 'List.h'], ['BufferedSoundStream.h', 'Pair.h'], ['BufferedSoundStream.h', 'ArrayPtr.h'], ['SoundStream.h', 'RefCounted.h'], ['OggVorbisSoundStream.h', 'ArrayPtr.h'], ['BufferedSoundStream.h', 'SoundStream.h'], ['OggVorbisSoundStream.h', 'SoundStream.h'], ['BufferedSoundStream.h', 'Mutex.h'], ['BufferedSoundStream.h', 'List.h'], ['BufferedSoundStream.h', 'Pair.h'], ['SoundSource.h', 'AudioDefs.h'], ['SoundSource.h', 'Component.h'], ['OggVorbisSoundStream.h', 'ArrayPtr.h'], ['OggVorbisSoundStream.h', 'SoundStream.h'], ['OggVorbisSoundStream.cpp', 'Sound.h'], ['OggVorbisSoundStream.cpp', 'Precompiled.h'], ['OggVorbisSoundStream.cpp', 'DebugNew.h'], ['OggVorbisSoundStream.cpp', 'OggVorbisSoundStream.h'], ['SoundListener.h', 'Component.h'], ['SoundSource3D.h', 'SoundSource.h'], ['SoundListener.cpp', 'SoundListener.h'], ['SoundListener.cpp', 'Context.h'], ['SoundListener.cpp', 'Precompiled.h'], ['AudioDefs.h', 'Str.h'], ['BufferedSoundStream.cpp', 'Precompiled.h'], ['BufferedSoundStream.cpp', 'BufferedSoundStream.h'], ['BufferedSoundStream.cpp', 'DebugNew.h'], ['OggVorbisSoundStream.cpp', 'Sound.h'], ['SoundStream.cpp', 'Precompiled.h'], ['BufferedSoundStream.cpp', 'Precompiled.h'], ['SoundStream.cpp', 'SoundStream.h'], ['BufferedSoundStream.cpp', 'BufferedSoundStream.h'], ['BufferedSoundStream.cpp', 'DebugNew.h'], ['OggVorbisSoundStream.cpp', 'Precompiled.h'], ['OggVorbisSoundStream.cpp', 'DebugNew.h'], ['OggVorbisSoundStream.cpp', 'OggVorbisSoundStream.h'], ['AudioEvents.h', 'Object.h']]\n"
     ]
    }
   ],
   "source": [
    "print(ordered_dot)"
   ]
  },
  {
   "cell_type": "code",
   "execution_count": 7,
   "id": "8694b003",
   "metadata": {},
   "outputs": [
    {
     "name": "stdout",
     "output_type": "stream",
     "text": [
      "[['H2', 'C2'], ['H2', 'K1'], ['H2', 'A2'], ['H2', 'C1'], ['H2', 'M2'], ['H2', 'R1'], ['H2', 'P1'], ['H2', 'E2'], ['H2', 'E1'], ['H2', 'W1'], ['H2', 'I1'], ['H2', 'I2'], ['B1', 'C1'], ['B1', 'I1'], ['B1', 'P1'], ['B1', 'Y1'], ['B1', 'G2'], ['B1', 'E2'], ['B1', 'W1'], ['B1', 'K2'], ['B1', 'J1'], ['B1', 'K1'], ['B1', 'X1'], ['D2', 'Y1'], ['D2', 'P1'], ['D2', 'M1'], ['D2', 'U1'], ['D2', 'I1'], ['D2', 'K1'], ['D2', 'E2'], ['D2', 'W1'], ['D2', 'C2'], ['D2', 'O2'], ['C1', 'N1'], ['C1', 'D1'], ['C1', 'S1'], ['C1', 'A1'], ['C1', 'Q1'], ['J2', 'L1'], ['J2', 'I1'], ['J2', 'E2'], ['J2', 'K2'], ['J2', 'R1'], ['J2', 'C1'], ['J2', 'W1'], ['J2', 'G2'], ['E2', 'B2'], ['E2', 'A1'], ['G1', 'A1'], ['G1', 'M2'], ['G1', 'Q1'], ['G1', 'O1'], ['G1', 'V1'], ['G1', 'A1'], ['M2', 'Z1'], ['U1', 'A1'], ['G1', 'M2'], ['U1', 'M2'], ['G1', 'Q1'], ['G1', 'O1'], ['G1', 'V1'], ['I2', 'D1'], ['I2', 'H1'], ['U1', 'A1'], ['U1', 'M2'], ['T1', 'E2'], ['T1', 'W1'], ['T1', 'K1'], ['T1', 'U1'], ['G2', 'H1'], ['K2', 'I2'], ['F2', 'G2'], ['F2', 'I1'], ['F2', 'W1'], ['D1', 'N2'], ['F1', 'W1'], ['F1', 'G1'], ['F1', 'K1'], ['T1', 'E2'], ['L2', 'W1'], ['F1', 'W1'], ['L2', 'M2'], ['F1', 'G1'], ['F1', 'K1'], ['T1', 'W1'], ['T1', 'K1'], ['T1', 'U1'], ['E1', 'S1']]\n"
     ]
    }
   ],
   "source": [
    "print(ordered_dot_ids)"
   ]
  },
  {
   "cell_type": "code",
   "execution_count": 8,
   "id": "b3b34044",
   "metadata": {},
   "outputs": [
    {
     "data": {
      "text/plain": [
       "array(['SoundSource.cpp', 'Audio.cpp', 'Sound.cpp', 'Audio.h',\n",
       "       'SoundSource3D.cpp', 'Precompiled.h', 'Sound.h',\n",
       "       'BufferedSoundStream.h', 'SoundStream.h', 'DebugNew.h',\n",
       "       'Context.h', 'SoundSource.h', 'OggVorbisSoundStream.h',\n",
       "       'OggVorbisSoundStream.cpp', 'SoundListener.h', 'ArrayPtr.h',\n",
       "       'SoundSource3D.h', 'SoundListener.cpp', 'AudioDefs.h',\n",
       "       'BufferedSoundStream.cpp', 'Log.h', 'SoundStream.cpp',\n",
       "       'ResourceCache.h', 'AudioEvents.h', 'Node.h', 'Object.h',\n",
       "       'Component.h', 'Profiler.h', 'Mutex.h', 'XMLFile.h',\n",
       "       'CoreEvents.h', 'List.h', 'Pair.h', 'RefCounted.h', 'Str.h',\n",
       "       'ReplicationState.h', 'HashSet.h', 'DebugRenderer.h', 'Resource.h',\n",
       "       'FileSystem.h', 'ProcessUtils.h'], dtype=object)"
      ]
     },
     "execution_count": 8,
     "metadata": {},
     "output_type": "execute_result"
    }
   ],
   "source": [
    "ordered_file_names"
   ]
  },
  {
   "cell_type": "code",
   "execution_count": 9,
   "id": "5016f7f5",
   "metadata": {},
   "outputs": [
    {
     "data": {
      "text/plain": [
       "{'ArrayPtr.h': 'A1',\n",
       " 'Audio.cpp': 'B1',\n",
       " 'Audio.h': 'C1',\n",
       " 'AudioDefs.h': 'D1',\n",
       " 'AudioEvents.h': 'E1',\n",
       " 'BufferedSoundStream.cpp': 'F1',\n",
       " 'BufferedSoundStream.h': 'G1',\n",
       " 'Component.h': 'H1',\n",
       " 'Context.h': 'I1',\n",
       " 'CoreEvents.h': 'J1',\n",
       " 'DebugNew.h': 'K1',\n",
       " 'DebugRenderer.h': 'L1',\n",
       " 'FileSystem.h': 'M1',\n",
       " 'HashSet.h': 'N1',\n",
       " 'List.h': 'O1',\n",
       " 'Log.h': 'P1',\n",
       " 'Mutex.h': 'Q1',\n",
       " 'Node.h': 'R1',\n",
       " 'Object.h': 'S1',\n",
       " 'OggVorbisSoundStream.cpp': 'T1',\n",
       " 'OggVorbisSoundStream.h': 'U1',\n",
       " 'Pair.h': 'V1',\n",
       " 'Precompiled.h': 'W1',\n",
       " 'ProcessUtils.h': 'X1',\n",
       " 'Profiler.h': 'Y1',\n",
       " 'RefCounted.h': 'Z1',\n",
       " 'ReplicationState.h': 'A2',\n",
       " 'Resource.h': 'B2',\n",
       " 'ResourceCache.h': 'C2',\n",
       " 'Sound.cpp': 'D2',\n",
       " 'Sound.h': 'E2',\n",
       " 'SoundListener.cpp': 'F2',\n",
       " 'SoundListener.h': 'G2',\n",
       " 'SoundSource.cpp': 'H2',\n",
       " 'SoundSource.h': 'I2',\n",
       " 'SoundSource3D.cpp': 'J2',\n",
       " 'SoundSource3D.h': 'K2',\n",
       " 'SoundStream.cpp': 'L2',\n",
       " 'SoundStream.h': 'M2',\n",
       " 'Str.h': 'N2',\n",
       " 'XMLFile.h': 'O2'}"
      ]
     },
     "execution_count": 9,
     "metadata": {},
     "output_type": "execute_result"
    }
   ],
   "source": [
    "name_map"
   ]
  },
  {
   "cell_type": "code",
   "execution_count": null,
   "id": "5b377ee1",
   "metadata": {},
   "outputs": [],
   "source": []
  },
  {
   "cell_type": "code",
   "execution_count": null,
   "id": "af3b0213",
   "metadata": {},
   "outputs": [],
   "source": []
  }
 ],
 "metadata": {
  "kernelspec": {
   "display_name": "Python 3 (ipykernel)",
   "language": "python",
   "name": "python3"
  },
  "language_info": {
   "codemirror_mode": {
    "name": "ipython",
    "version": 3
   },
   "file_extension": ".py",
   "mimetype": "text/x-python",
   "name": "python",
   "nbconvert_exporter": "python",
   "pygments_lexer": "ipython3",
   "version": "3.8.10"
  }
 },
 "nbformat": 4,
 "nbformat_minor": 5
}
